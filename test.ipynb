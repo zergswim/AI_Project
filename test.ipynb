{
 "cells": [
  {
   "cell_type": "code",
   "execution_count": null,
   "id": "7c08597b-740e-4063-8270-f9f65f5eca0f",
   "metadata": {},
   "outputs": [],
   "source": [
    "#pip install ultralytics\n",
    "\n",
    "from ultralytics import YOLO"
   ]
  },
  {
   "cell_type": "code",
   "execution_count": null,
   "id": "caf0e496-445c-45d6-9749-78e4f7816764",
   "metadata": {},
   "outputs": [],
   "source": [
    "# model = YOLO(\"yolov8x.yaml\")  # build a new model from scratch\n",
    "model = YOLO(\"/opt/ml/fastapi/yolov8x_best.pt\")#.to(\"cpu\")\n",
    "# model = YOLO(\"/opt/ml/runs/detect/train6/weights/best.pt\")#.to(\"cpu\")"
   ]
  },
  {
   "cell_type": "code",
   "execution_count": null,
   "id": "2926a172-a296-4523-92bd-6dcfa1e0ac7d",
   "metadata": {},
   "outputs": [],
   "source": [
    "model.to(\"cpu\")\n",
    "print(model.cfg)\n",
    "print(dir(model))\n",
    "print(model.val(plots=True))"
   ]
  },
  {
   "cell_type": "code",
   "execution_count": null,
   "id": "23949479-448e-4344-ab92-06b7cff975ff",
   "metadata": {},
   "outputs": [],
   "source": []
  }
 ],
 "metadata": {
  "kernelspec": {
   "display_name": "Python 3 (ipykernel)",
   "language": "python",
   "name": "python3"
  },
  "language_info": {
   "codemirror_mode": {
    "name": "ipython",
    "version": 3
   },
   "file_extension": ".py",
   "mimetype": "text/x-python",
   "name": "python",
   "nbconvert_exporter": "python",
   "pygments_lexer": "ipython3",
   "version": "3.8.5"
  }
 },
 "nbformat": 4,
 "nbformat_minor": 5
}
