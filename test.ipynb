{
 "cells": [
  {
   "cell_type": "code",
   "execution_count": 1,
   "id": "7c08597b-740e-4063-8270-f9f65f5eca0f",
   "metadata": {},
   "outputs": [],
   "source": [
    "#pip install ultralytics\n",
    "\n",
    "from ultralytics import YOLO"
   ]
  },
  {
   "cell_type": "code",
   "execution_count": 2,
   "id": "caf0e496-445c-45d6-9749-78e4f7816764",
   "metadata": {},
   "outputs": [],
   "source": [
    "# model = YOLO(\"yolov8x.yaml\")  # build a new model from scratch\n",
    "model = YOLO(\"/opt/ml/fastapi/yolov8m_best.pt\")#.to(\"cpu\")\n",
    "# model = YOLO(\"/opt/ml/runs/detect/train6/weights/best.pt\")#.to(\"cpu\")"
   ]
  },
  {
   "cell_type": "code",
   "execution_count": 10,
   "id": "2926a172-a296-4523-92bd-6dcfa1e0ac7d",
   "metadata": {},
   "outputs": [
    {
     "name": "stdout",
     "output_type": "stream",
     "text": [
      "['__bool__', '__class__', '__delattr__', '__dir__', '__doc__', '__eq__', '__format__', '__ge__', '__getattribute__', '__gt__', '__hash__', '__init__', '__init_subclass__', '__le__', '__lt__', '__ne__', '__new__', '__reduce__', '__reduce_ex__', '__repr__', '__setattr__', '__sizeof__', '__str__', '__subclasshook__']\n"
     ]
    }
   ],
   "source": [
    "model.to(\"cpu\")\n",
    "prd = model.predictor\n",
    "print(dir(prd))"
   ]
  },
  {
   "cell_type": "code",
   "execution_count": null,
   "id": "23949479-448e-4344-ab92-06b7cff975ff",
   "metadata": {},
   "outputs": [],
   "source": [
    "print(model.val(plots=True))"
   ]
  }
 ],
 "metadata": {
  "kernelspec": {
   "display_name": "Python 3 (ipykernel)",
   "language": "python",
   "name": "python3"
  },
  "language_info": {
   "codemirror_mode": {
    "name": "ipython",
    "version": 3
   },
   "file_extension": ".py",
   "mimetype": "text/x-python",
   "name": "python",
   "nbconvert_exporter": "python",
   "pygments_lexer": "ipython3",
   "version": "3.8.5"
  }
 },
 "nbformat": 4,
 "nbformat_minor": 5
}
