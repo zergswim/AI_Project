{
 "cells": [
  {
   "cell_type": "code",
   "execution_count": 1,
   "id": "7c08597b-740e-4063-8270-f9f65f5eca0f",
   "metadata": {},
   "outputs": [],
   "source": [
    "#pip install ultralytics\n",
    "\n",
    "from ultralytics import YOLO"
   ]
  },
  {
   "cell_type": "code",
   "execution_count": 6,
   "id": "caf0e496-445c-45d6-9749-78e4f7816764",
   "metadata": {},
   "outputs": [],
   "source": [
    "# model = YOLO(\"yolov8x.yaml\")  # build a new model from scratch\n",
    "model = YOLO(\"/opt/ml/fastapi/yolov8m_best.pt\")#.to(\"cpu\")\n",
    "# model = YOLO(\"/opt/ml/runs/detect/train6/weights/best.pt\")#.to(\"cpu\")"
   ]
  },
  {
   "cell_type": "code",
   "execution_count": 8,
   "id": "2926a172-a296-4523-92bd-6dcfa1e0ac7d",
   "metadata": {},
   "outputs": [
    {
     "name": "stdout",
     "output_type": "stream",
     "text": [
      "None\n",
      "['ModelClass', 'PredictorClass', 'TrainerClass', 'ValidatorClass', '__call__', '__class__', '__delattr__', '__dict__', '__dir__', '__doc__', '__eq__', '__format__', '__ge__', '__getattribute__', '__gt__', '__hash__', '__init__', '__init_subclass__', '__le__', '__lt__', '__module__', '__ne__', '__new__', '__reduce__', '__reduce_ex__', '__repr__', '__setattr__', '__sizeof__', '__str__', '__subclasshook__', '__weakref__', '_assign_ops_from_task', '_load', '_new', '_reset_ckpt_args', 'add_callback', 'cfg', 'ckpt', 'ckpt_path', 'export', 'fuse', 'info', 'model', 'names', 'overrides', 'predict', 'predictor', 'reset', 'task', 'to', 'train', 'trainer', 'transforms', 'type', 'val']\n"
     ]
    },
    {
     "name": "stderr",
     "output_type": "stream",
     "text": [
      "Ultralytics YOLOv8.0.29 🚀 Python-3.8.5 torch-1.7.1 CUDA:0 (Tesla V100-PCIE-32GB, 32510MiB)\n",
      "Model summary (fused): 218 layers, 25891088 parameters, 0 gradients, 79.7 GFLOPs\n",
      "Downloading https://ultralytics.com/assets/Arial.ttf to /opt/ml/.config/Ultralytics/Arial.ttf...\n"
     ]
    },
    {
     "data": {
      "application/vnd.jupyter.widget-view+json": {
       "model_id": "d5b1f89c945341ac9658fbd9ec5b58d5",
       "version_major": 2,
       "version_minor": 0
      },
      "text/plain": [
       "  0%|          | 0.00/755k [00:00<?, ?B/s]"
      ]
     },
     "metadata": {},
     "output_type": "display_data"
    },
    {
     "name": "stderr",
     "output_type": "stream",
     "text": [
      "\u001b[34m\u001b[1mval: \u001b[0mScanning /opt/ml/DATA_YOLON2/labels/val2... 116 images, 0 backgrounds, 0 corrupt: 100%|██████████| 116/116 [00:00<00:00, 1197.15it/s]\n",
      "\u001b[34m\u001b[1mval: \u001b[0mNew cache created: /opt/ml/DATA_YOLON2/labels/val2.cache\n",
      "                 Class     Images  Instances      Box(P          R      mAP50  mAP50-95): 100%|██████████| 8/8 [00:13<00:00,  1.68s/it]\n",
      "                   all        116      10617      0.986      0.981      0.988      0.846\n",
      "                     1        116        717      0.996       0.98      0.994      0.827\n",
      "                     2        116        203          1      0.955      0.982       0.79\n",
      "                     3        116        193      0.987      0.995      0.995       0.82\n",
      "                     4        116         44      0.959          1      0.995      0.898\n",
      "                     5        116        391          1      0.995      0.995      0.839\n",
      "                     6        116         67      0.962      0.985      0.992      0.867\n",
      "                     7        116        440      0.995      0.996      0.993      0.839\n",
      "                     8        116         16          1      0.904       0.94      0.848\n",
      "                     9        116         54      0.994      0.981      0.986      0.837\n",
      "                    10        116        581      0.997       0.99      0.992      0.829\n",
      "                    11        116         68      0.992          1      0.995      0.876\n",
      "                    12        116         55      0.977          1      0.991      0.905\n",
      "                    13        116        258      0.995          1      0.995      0.828\n",
      "                    14        116        404      0.999      0.993      0.995      0.838\n",
      "                    15        116        256      0.998      0.996      0.995      0.841\n",
      "                    16        116        188      0.973      0.973      0.985      0.863\n",
      "                    17        116        688      0.998      0.997      0.995      0.827\n",
      "                    18        116         73      0.972      0.973      0.979      0.847\n",
      "                    19        116        173      0.998      0.988      0.995      0.851\n",
      "                    20        116         40      0.943       0.95      0.948       0.84\n",
      "                    21        116        777      0.999      0.998      0.995      0.843\n",
      "                    22        116         75          1      0.996      0.995      0.841\n",
      "                    23        116        364      0.999          1      0.995      0.834\n",
      "                    24        116         67          1      0.977      0.988      0.762\n",
      "                    25        116        310          1      0.993      0.995       0.85\n",
      "                    26        116        104       0.99      0.957      0.993      0.821\n",
      "                    27        116        223      0.999          1      0.995      0.848\n",
      "                    28        116         33      0.978       0.97      0.969      0.878\n",
      "                    29        116        464      0.999      0.991      0.995      0.838\n",
      "                    30        116        474      0.996      0.998      0.994      0.843\n",
      "                    31        116        128      0.997      0.992      0.995       0.85\n",
      "                    32        116         11      0.969          1      0.995      0.808\n",
      "                    33        116         48      0.979      0.988      0.989       0.82\n",
      "                    34        116         65      0.951      0.985      0.987      0.886\n",
      "                    35        116         20      0.971          1      0.995      0.919\n",
      "                    36        116        133      0.998      0.992      0.995       0.85\n",
      "                    37        116        313      0.997      0.991      0.995      0.841\n",
      "                    38        116         37      0.989      0.865      0.904      0.829\n",
      "                    39        116         28       0.97          1      0.995      0.902\n",
      "                    40        116          8          1      0.901      0.995      0.691\n",
      "                    41        116         36      0.946          1      0.994       0.92\n",
      "                    42        116         33      0.978       0.97      0.993      0.891\n",
      "                    43        116        166          1          1      0.995      0.825\n",
      "                    44        116         29      0.981          1      0.995        0.9\n",
      "                    45        116         51      0.989      0.961      0.994      0.852\n",
      "                    46        116        191      0.995      0.995      0.995      0.821\n",
      "                    47        116        102          1      0.999      0.995       0.85\n",
      "                    48        116         30      0.952      0.933      0.991       0.91\n",
      "                    49        116        135       0.99          1      0.995      0.835\n",
      "                    50        116        200      0.998          1      0.995      0.816\n",
      "                    51        116         66      0.991      0.955      0.972      0.815\n",
      "                    52        116         27      0.984      0.852      0.869      0.712\n",
      "                    53        116        161      0.992      0.994      0.995      0.849\n",
      "                    54        116         21      0.969          1      0.995      0.906\n",
      "                    55        116         34          1      0.981      0.995      0.878\n",
      "                    56        116         12          1      0.945      0.995      0.819\n",
      "                    57        116         17      0.943      0.965      0.992      0.899\n",
      "                    58        116        361      0.993      0.994      0.995      0.833\n",
      "                    59        116         11       0.96          1      0.995       0.95\n",
      "                    60        116        131       0.99          1      0.995      0.857\n",
      "                    61        116         15      0.976          1      0.995      0.893\n",
      "                    62        116        162          1      0.988      0.995      0.852\n",
      "                    63        116         35      0.988          1      0.995      0.762\n",
      "Speed: 3.5ms pre-process, 12.7ms inference, 0.0ms loss, 2.1ms post-process per image\n"
     ]
    },
    {
     "name": "stdout",
     "output_type": "stream",
     "text": [
      "None\n"
     ]
    }
   ],
   "source": [
    "model.to(\"cpu\")\n",
    "print(model.cfg)\n",
    "print(dir(model))\n",
    "print(model.val(plots=True))"
   ]
  },
  {
   "cell_type": "code",
   "execution_count": null,
   "id": "23949479-448e-4344-ab92-06b7cff975ff",
   "metadata": {},
   "outputs": [],
   "source": []
  }
 ],
 "metadata": {
  "kernelspec": {
   "display_name": "Python 3 (ipykernel)",
   "language": "python",
   "name": "python3"
  },
  "language_info": {
   "codemirror_mode": {
    "name": "ipython",
    "version": 3
   },
   "file_extension": ".py",
   "mimetype": "text/x-python",
   "name": "python",
   "nbconvert_exporter": "python",
   "pygments_lexer": "ipython3",
   "version": "3.8.5"
  }
 },
 "nbformat": 4,
 "nbformat_minor": 5
}
