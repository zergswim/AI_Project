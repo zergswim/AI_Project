{
 "cells": [
  {
   "cell_type": "code",
   "execution_count": 1,
   "id": "7c08597b-740e-4063-8270-f9f65f5eca0f",
   "metadata": {},
   "outputs": [],
   "source": [
    "#pip install ultralytics\n",
    "\n",
    "from ultralytics import YOLO"
   ]
  },
  {
   "cell_type": "code",
   "execution_count": 2,
   "id": "caf0e496-445c-45d6-9749-78e4f7816764",
   "metadata": {},
   "outputs": [],
   "source": [
    "# model = YOLO(\"yolov8x.yaml\")  # build a new model from scratch\n",
    "model = YOLO(\"/opt/ml/fastapi/yolov8m_best.pt\")#.to(\"cpu\")\n",
    "# model = YOLO(\"/opt/ml/runs/detect/train6/weights/best.pt\")#.to(\"cpu\")"
   ]
  },
  {
   "cell_type": "code",
   "execution_count": 3,
   "id": "2926a172-a296-4523-92bd-6dcfa1e0ac7d",
   "metadata": {},
   "outputs": [
    {
     "name": "stderr",
     "output_type": "stream",
     "text": [
      "Ultralytics YOLOv8.0.29 🚀 Python-3.8.5 torch-1.7.1 CPU\n"
     ]
    },
    {
     "name": "stdout",
     "output_type": "stream",
     "text": [
      "cpu\n"
     ]
    },
    {
     "name": "stderr",
     "output_type": "stream",
     "text": [
      "Model summary (fused): 218 layers, 25891088 parameters, 0 gradients, 79.7 GFLOPs\n",
      "\n",
      "image 1/1 /opt/ml/fastapi/upload/5c21c691-da5c-4ed5-8be2-30beb05aa6a6.jpg: 800x608 15 1s, 1 5, 13 7s, 8 9s, 15 10s, 2 11s, 3 12s, 4 13s, 14 14s, 6 15s, 2 16s, 13 17s, 1 19, 4 20s, 7 21s, 4 23s, 3 25s, 3 26s, 7 27s, 9 28s, 7 29s, 11 30s, 4 32s, 1 33, 1 34, 1 35, 5 37s, 2 39s, 1 42, 2 43s, 1 44, 1 45, 11 46s, 4 47s, 1 48, 4 50s, 2 56s, 1 57, 2 58s, 4 59s, 2 61s, 1 63, 340.8ms\n",
      "Speed: 1.1ms pre-process, 340.8ms inference, 3.6ms postprocess per image at shape (1, 3, 800, 800)\n"
     ]
    },
    {
     "data": {
      "text/plain": [
       "[Ultralytics YOLO <class 'ultralytics.yolo.engine.results.Boxes'> masks\n",
       " type: <class 'torch.Tensor'>\n",
       " shape: torch.Size([203, 6])\n",
       " dtype: torch.float32\n",
       "  + tensor([[1.77000e+02, 5.40000e+02, 1.95000e+02, 5.67000e+02, 9.53381e-01, 4.30000e+01],\n",
       "         [8.40000e+01, 6.55000e+02, 1.02000e+02, 6.81000e+02, 9.51345e-01, 1.00000e+01],\n",
       "         [6.20000e+01, 5.41000e+02, 7.90000e+01, 5.69000e+02, 9.51261e-01, 2.30000e+01],\n",
       "         ...,\n",
       "         [6.20000e+01, 7.11000e+02, 8.00000e+01, 7.40000e+02, 6.30573e-01, 5.00000e+01],\n",
       "         [4.09000e+02, 3.66000e+02, 4.27000e+02, 3.94000e+02, 5.96495e-01, 5.60000e+01],\n",
       "         [2.93000e+02, 6.52000e+02, 3.12000e+02, 6.80000e+02, 4.86932e-01, 1.20000e+01]])]"
      ]
     },
     "execution_count": 3,
     "metadata": {},
     "output_type": "execute_result"
    }
   ],
   "source": [
    "# model.to(\"cpu\")\n",
    "# prd = model.PredictorClass\n",
    "# # from ultralytics.yolo.v8.detect.predict import DetectionPredictor as DP\n",
    "# print(dir(prd))\n",
    "\n",
    "model.predict(source=\"/opt/ml/fastapi/upload/5c21c691-da5c-4ed5-8be2-30beb05aa6a6.jpg\", device=\"cpu\")"
   ]
  },
  {
   "cell_type": "code",
   "execution_count": null,
   "id": "23949479-448e-4344-ab92-06b7cff975ff",
   "metadata": {},
   "outputs": [],
   "source": [
    "print(model.val(plots=True))"
   ]
  },
  {
   "cell_type": "code",
   "execution_count": null,
   "id": "18fd9e52-44c7-4690-97e7-87de9078cf65",
   "metadata": {},
   "outputs": [],
   "source": []
  }
 ],
 "metadata": {
  "kernelspec": {
   "display_name": "Python 3 (ipykernel)",
   "language": "python",
   "name": "python3"
  },
  "language_info": {
   "codemirror_mode": {
    "name": "ipython",
    "version": 3
   },
   "file_extension": ".py",
   "mimetype": "text/x-python",
   "name": "python",
   "nbconvert_exporter": "python",
   "pygments_lexer": "ipython3",
   "version": "3.8.5"
  }
 },
 "nbformat": 4,
 "nbformat_minor": 5
}
